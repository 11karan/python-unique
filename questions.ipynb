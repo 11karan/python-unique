{
 "cells": [
  {
   "cell_type": "code",
   "execution_count": 9,
   "id": "e7dec0e4-bf6d-438c-809c-c00b0d277bbe",
   "metadata": {},
   "outputs": [
    {
     "data": {
      "text/plain": [
       "[1, 2, 3, 4]"
      ]
     },
     "execution_count": 9,
     "metadata": {},
     "output_type": "execute_result"
    }
   ],
   "source": [
    "def new (a):\n",
    "    b = []\n",
    "    for i in a:\n",
    "        if i not in b:\n",
    "            b.append(i)\n",
    "    return b\n",
    "list1 = [1,1,1,1,2,2,2,3,4]\n",
    "new(list1)"
   ]
  },
  {
   "cell_type": "code",
   "execution_count": 13,
   "id": "7ea2babf-b375-4f6c-ba0b-6a330212cbc6",
   "metadata": {},
   "outputs": [
    {
     "name": "stdout",
     "output_type": "stream",
     "text": [
      "[1, 2, 3, 4, 5, 6]\n"
     ]
    }
   ],
   "source": [
    "nested = [[1,2],[3,[4,5]],6]\n",
    "flatten = []\n",
    "for i in nested:\n",
    "    if type(i) == list:\n",
    "        check(i,flatten)\n",
    "    else:\n",
    "        flatten.append(i)\n",
    "print(flatten)\n"
   ]
  },
  {
   "cell_type": "code",
   "execution_count": 5,
   "id": "e34d28e3-c3a7-4518-8f03-100c3b6a17d1",
   "metadata": {},
   "outputs": [
    {
     "name": "stdout",
     "output_type": "stream",
     "text": [
      "[4, 5, 1, 2, 3]\n"
     ]
    }
   ],
   "source": [
    "a = [1,2,3,4,5]\n",
    "k = 2\n",
    "while(k>0):\n",
    "    last = a.pop(-1)\n",
    "    a.insert(0,last)\n",
    "    k-=1\n",
    "print(a)"
   ]
  },
  {
   "cell_type": "code",
   "execution_count": 11,
   "id": "80770798-2417-416d-9fbf-151ef010e5c6",
   "metadata": {},
   "outputs": [
    {
     "data": {
      "text/plain": [
       "[(1, 8), (2, 7), (3, 6), (4, 5)]"
      ]
     },
     "execution_count": 11,
     "metadata": {},
     "output_type": "execute_result"
    }
   ],
   "source": [
    "def pairs(a,target):\n",
    "    result = []\n",
    "    for x in range(0,len(a)):\n",
    "        for y in range(x+1,len(a)):\n",
    "            if a[x]+a[y] == target:\n",
    "                result.append((a[x],a[y]))\n",
    "    return result\n",
    "list1 = [1,2,3,4,5,6,7,8]\n",
    "target = 9\n",
    "pairs(list1,target)"
   ]
  },
  {
   "cell_type": "code",
   "execution_count": 12,
   "id": "f79784a4-10ed-4c01-987c-eb2a17f74159",
   "metadata": {},
   "outputs": [
    {
     "name": "stdout",
     "output_type": "stream",
     "text": [
      "{'a': [1, 3], 'b': [2]}\n"
     ]
    }
   ],
   "source": [
    "a = [('a', 1), ('b', 2), ('a', 3)]\n",
    "result = {}\n",
    "for key, value in a:\n",
    "    if key not in result:\n",
    "        result[key] = []\n",
    "    result[key].append(value)\n",
    "print(result)"
   ]
  },
  {
   "cell_type": "code",
   "execution_count": 15,
   "id": "cf0c3531-29c9-49ab-9d1c-0977d758212b",
   "metadata": {},
   "outputs": [
    {
     "data": {
      "text/plain": [
       "'the tuple (31, 12) wtih the max sum  :43'"
      ]
     },
     "execution_count": 15,
     "metadata": {},
     "output_type": "execute_result"
    }
   ],
   "source": [
    "def max(a):\n",
    "    max = 0\n",
    "    elements = 0\n",
    "    for x in a:\n",
    "        sum = 0\n",
    "        for y in x:\n",
    "            sum +=y\n",
    "            if(max<sum):\n",
    "                max = sum\n",
    "                element = x\n",
    "    return f'the tuple {element} wtih the max sum  :{max}'\n",
    "list1 = [(1,4),(3,2),(6,2),(11,21),(31,12),(13,2)]\n",
    "max(list1)            "
   ]
  },
  {
   "cell_type": "code",
   "execution_count": 1,
   "id": "9d677ccf-186e-4a04-b2cf-be10a8411297",
   "metadata": {},
   "outputs": [
    {
     "name": "stdout",
     "output_type": "stream",
     "text": [
      "{'my': 1, 'name': 1, 'is': 2, 'karan': 1, 'and': 1, 'i': 1, 'am': 1, 'a': 1, 'boy': 1, 'whose': 1, 'fav': 1, 'hobby': 1, 'to': 1, 'play': 1, 'games': 1}\n"
     ]
    }
   ],
   "source": [
    "sent1 = 'my name is karan and i am a boy whose fav hobby is to play games'\n",
    "words = sent1.split()\n",
    "dict1 = {}\n",
    "for word in words:\n",
    "    if word not in dict1:\n",
    "        dict1[word] = 1\n",
    "    else:\n",
    "        dict1[word]+=1\n",
    "print(dict1)"
   ]
  },
  {
   "cell_type": "code",
   "execution_count": 4,
   "id": "b45677a2-e18c-47af-bd26-671b7fd22bf6",
   "metadata": {},
   "outputs": [
    {
     "name": "stdout",
     "output_type": "stream",
     "text": [
      "{'a': 10, 'b': 25, 'c': 45, 'd': 40}\n"
     ]
    }
   ],
   "source": [
    "dict1 = {'a': 10, 'b': 20, 'c': 30}\n",
    "dict2 = {'b': 5, 'c': 15, 'd': 40}\n",
    "for key, value in dict2.items():\n",
    "    if key in dict1:\n",
    "        dict1[key] += value \n",
    "    else:\n",
    "        dict1[key] = value\n",
    "print(dict1)"
   ]
  },
  {
   "cell_type": "code",
   "execution_count": 9,
   "id": "7548e596-e750-4373-b1d4-041ffec60c99",
   "metadata": {},
   "outputs": [
    {
     "name": "stdout",
     "output_type": "stream",
     "text": [
      "{'c': 30, 'b': 20, 'a': 10}\n"
     ]
    }
   ],
   "source": [
    "dict1 = {'a': 10, 'b': 20, 'c': 30}\n",
    "value = list(dict1.items())\n",
    "for x in range (0,len(value)):\n",
    "    for y in range (x+1,len(value)):\n",
    "        if value[x]<value[y]:\n",
    "            value[x],value[y] = value[y],value[x]\n",
    "desending = dict(value)\n",
    "print(desending)"
   ]
  },
  {
   "cell_type": "code",
   "execution_count": 13,
   "id": "a99e1235-95ee-484e-93bd-2732750a82d2",
   "metadata": {},
   "outputs": [
    {
     "name": "stdout",
     "output_type": "stream",
     "text": [
      "{'a': 1, 'b': 2}\n"
     ]
    }
   ],
   "source": [
    "dict1 = {1: 'a', 2: 'b'}\n",
    "dict2 = {}\n",
    "for i,j in dict1.items():\n",
    "    dict2[j] = i\n",
    "print(dict2)"
   ]
  },
  {
   "cell_type": "code",
   "execution_count": 20,
   "id": "8c3e3d88-bcea-4108-b206-6ff086b621bf",
   "metadata": {},
   "outputs": [
    {
     "name": "stdout",
     "output_type": "stream",
     "text": [
      "[1, 4, 9, 16, 25]\n"
     ]
    }
   ],
   "source": [
    "a = [1,2,3,4,5]\n",
    "squares = list(map(lambda x: x**2, a))\n",
    "print(squares)"
   ]
  },
  {
   "cell_type": "code",
   "execution_count": 21,
   "id": "0f5d5555-80fe-4752-a122-cee213428541",
   "metadata": {},
   "outputs": [
    {
     "name": "stdout",
     "output_type": "stream",
     "text": [
      "[2, 4, 6, 8]\n"
     ]
    }
   ],
   "source": [
    "a = [1,2,3,4,5,6,7,8]\n",
    "eves = list(filter(lambda x: x%2==0, a))\n",
    "print(eves)"
   ]
  },
  {
   "cell_type": "code",
   "execution_count": 25,
   "id": "f8dffd45-855f-42e5-8384-e577a2b10db2",
   "metadata": {},
   "outputs": [
    {
     "name": "stdout",
     "output_type": "stream",
     "text": [
      "['MY', 'NAME', 'IS', 'KARAN']\n"
     ]
    }
   ],
   "source": [
    "a = ['my','name','is','karan']\n",
    "def upper(x):\n",
    "    return x.upper()\n",
    "capital = list(map(upper ,a))\n",
    "print(capital)"
   ]
  },
  {
   "cell_type": "code",
   "execution_count": 26,
   "id": "7a5b2771-3ccf-451d-92fa-7d72b1a1db89",
   "metadata": {},
   "outputs": [
    {
     "data": {
      "text/plain": [
       "840"
      ]
     },
     "execution_count": 26,
     "metadata": {},
     "output_type": "execute_result"
    }
   ],
   "source": [
    "def product(a):\n",
    "    product = 1\n",
    "    for x in a:\n",
    "        product *= x\n",
    "    return product\n",
    "list1 = [3,2,4,5,7]\n",
    "product(list1)"
   ]
  },
  {
   "cell_type": "code",
   "execution_count": 29,
   "id": "0243026c-224e-47bd-88f2-ece47277ab25",
   "metadata": {},
   "outputs": [
    {
     "name": "stdout",
     "output_type": "stream",
     "text": [
      "[4, 6, 8, 10, 12, 14]\n"
     ]
    }
   ],
   "source": [
    "a = [1,2,3,4,5,6,7,8]\n",
    "b = [3,4,5,6,7,8]\n",
    "sums = list(map(lambda x,y: x+y, a,b))\n",
    "print(sums)"
   ]
  },
  {
   "cell_type": "code",
   "execution_count": 37,
   "id": "7ccd0f52-1e0a-47cc-bf20-6a6eb690fc9c",
   "metadata": {},
   "outputs": [
    {
     "name": "stdout",
     "output_type": "stream",
     "text": [
      "[{'name': 'b', 'age': 31}, {'name': 'B', 'age': 35}]\n"
     ]
    }
   ],
   "source": [
    "dict1 = [{'name': \"A\", 'age': 25},{'name': \"b\", 'age': 31},{'name': \"B\", 'age': 35},{'name': \"d\", 'age': 15}]\n",
    "def over_30(person):\n",
    "    return person['age'] > 30\n",
    "old = list(filter(over_30 ,dict1))\n",
    "print(old)"
   ]
  },
  {
   "cell_type": "code",
   "execution_count": 7,
   "id": "9f6eda65-853e-4290-a40b-652457b33f9b",
   "metadata": {},
   "outputs": [
    {
     "name": "stdout",
     "output_type": "stream",
     "text": [
      "e\n"
     ]
    }
   ],
   "source": [
    "str1 = 'aabbccdde'\n",
    "for i in range(len(str1)):\n",
    "    count = 0 \n",
    "    for j in range(len(str1)):\n",
    "        if i !=j and str1[i] == str1[j]:\n",
    "            count+=1\n",
    "    if count ==0:\n",
    "        print(str1[i])\n",
    "        break"
   ]
  },
  {
   "cell_type": "code",
   "execution_count": 10,
   "id": "ad946b0e-b79a-48bb-95be-07be6b323a9f",
   "metadata": {},
   "outputs": [
    {
     "name": "stdout",
     "output_type": "stream",
     "text": [
      "{1: 6, 2: 7, 3: 8, 4: 9, 5: 11}\n"
     ]
    }
   ],
   "source": [
    "list1 = [1,2,3,4,5]\n",
    "list2 = [6,7,8,9,11]\n",
    "dict1 = dict(zip(list1,list2))\n",
    "print(dict1)"
   ]
  },
  {
   "cell_type": "code",
   "execution_count": 13,
   "id": "81f8f8d1-2157-4921-8fac-ce33c7935d14",
   "metadata": {},
   "outputs": [
    {
     "name": "stdout",
     "output_type": "stream",
     "text": [
      "the list are anagrams\n"
     ]
    }
   ],
   "source": [
    "list1 = [1,2,1,2,3]\n",
    "list2 = [1,1,2,2,3]\n",
    "list1=sorted(list1)\n",
    "list2=sorted(list2)\n",
    "if list1 == list2:\n",
    "    print('the list are anagrams')\n",
    "else:\n",
    "    print('the list are not an anagram')"
   ]
  },
  {
   "cell_type": "code",
   "execution_count": 14,
   "id": "11380af4-830a-4972-8ee8-c3b6ee1c818e",
   "metadata": {},
   "outputs": [
    {
     "name": "stdout",
     "output_type": "stream",
     "text": [
      "{'a': 3, 'b': 2, 'c': 1}\n"
     ]
    }
   ],
   "source": [
    "a = ['a', 'b', 'a', 'c', 'b', 'a']\n",
    "dict1 = {x:a.count(x) for x in a}\n",
    "print(dict1)"
   ]
  },
  {
   "cell_type": "code",
   "execution_count": null,
   "id": "e7bb7a58-d36c-4aeb-9bb4-9575ccbaf34c",
   "metadata": {},
   "outputs": [],
   "source": []
  }
 ],
 "metadata": {
  "kernelspec": {
   "display_name": "Python 3 (ipykernel)",
   "language": "python",
   "name": "python3"
  },
  "language_info": {
   "codemirror_mode": {
    "name": "ipython",
    "version": 3
   },
   "file_extension": ".py",
   "mimetype": "text/x-python",
   "name": "python",
   "nbconvert_exporter": "python",
   "pygments_lexer": "ipython3",
   "version": "3.13.3"
  }
 },
 "nbformat": 4,
 "nbformat_minor": 5
}
