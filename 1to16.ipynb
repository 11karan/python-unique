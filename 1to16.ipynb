{
 "cells": [
  {
   "cell_type": "code",
   "execution_count": 9,
   "id": "9852f3a3-06cf-4ab1-83c7-81e3421c22f7",
   "metadata": {},
   "outputs": [
    {
     "name": "stdout",
     "output_type": "stream",
     "text": [
      "1 2 3 4  \n",
      "12 13 14 5  \n",
      "11 16 15 6  \n",
      "10 9 8 7  \n"
     ]
    }
   ],
   "source": [
    "#first attempt\n",
    "a = 1\n",
    "z = a*5\n",
    "q = a*12\n",
    "x = a*13\n",
    "e = a*16\n",
    "b = a*9\n",
    "for i in range(1,5):\n",
    "    for j in range(1,5):\n",
    "        if(i == 1):\n",
    "            print(a,end = ' ')\n",
    "            a+=1\n",
    "        elif(j == 1):\n",
    "            print(q,end = ' ')\n",
    "            q-=1\n",
    "        elif(j == 4):\n",
    "            print(z,end =' ')\n",
    "            z+=1\n",
    "        else:\n",
    "            if(i ==2):\n",
    "                print(x,end = ' ')\n",
    "                x+=1\n",
    "            elif(i == 3):\n",
    "                print(e,end = ' ')\n",
    "                e-=1\n",
    "            elif(i == 4):\n",
    "                print(b,end = ' ')\n",
    "                b-=1\n",
    "    print(' ')"
   ]
  },
  {
   "cell_type": "code",
   "execution_count": 12,
   "id": "ce359c60-71ad-4a28-9482-78a11cafb3c5",
   "metadata": {},
   "outputs": [
    {
     "name": "stdout",
     "output_type": "stream",
     "text": [
      "1 2 3 4  \n",
      "12 13 14 5  \n",
      "11 16 15 6  \n",
      "10 9 8 7  \n"
     ]
    }
   ],
   "source": [
    "#correct order.....\n",
    "a = 1\n",
    "z = a*5\n",
    "q = a*12\n",
    "x = a*13\n",
    "e = a*16\n",
    "b = a*10\n",
    "for i in range(1,5):\n",
    "    for j in range(1,5):\n",
    "        if(i == 1):\n",
    "            print(a,end = ' ')\n",
    "            a+=1\n",
    "        elif(j == 4):\n",
    "            print(z,end = ' ')\n",
    "            z+=1\n",
    "        elif(i == 4):\n",
    "            print(b,end = ' ')\n",
    "            b-=1\n",
    "        elif(j == 1):\n",
    "            print(q,end = ' ')\n",
    "            q-=1\n",
    "        elif(i == 2):\n",
    "            print(x,end = ' ')\n",
    "            x+=1\n",
    "        else:\n",
    "            print(e,end = ' ')\n",
    "            e-=1\n",
    "    print(' ')"
   ]
  },
  {
   "cell_type": "code",
   "execution_count": null,
   "id": "6b042afd-7acc-4d4f-a224-25dc9d97fe56",
   "metadata": {},
   "outputs": [],
   "source": []
  }
 ],
 "metadata": {
  "kernelspec": {
   "display_name": "Python 3 (ipykernel)",
   "language": "python",
   "name": "python3"
  },
  "language_info": {
   "codemirror_mode": {
    "name": "ipython",
    "version": 3
   },
   "file_extension": ".py",
   "mimetype": "text/x-python",
   "name": "python",
   "nbconvert_exporter": "python",
   "pygments_lexer": "ipython3",
   "version": "3.13.3"
  }
 },
 "nbformat": 4,
 "nbformat_minor": 5
}
