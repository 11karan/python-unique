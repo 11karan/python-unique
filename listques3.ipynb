{
 "cells": [
  {
   "cell_type": "code",
   "execution_count": 3,
   "id": "7ba62e60-c7f6-4291-80a8-8cf12de9d66f",
   "metadata": {},
   "outputs": [
    {
     "name": "stdout",
     "output_type": "stream",
     "text": [
      "[1, 3, 12, 0, 0]\n"
     ]
    }
   ],
   "source": [
    "#my method\n",
    "num = [0,1,0,3,12]\n",
    "for i in range(0,len(num)):\n",
    "    if(num[i] == 0):\n",
    "        s = num.pop(i)\n",
    "        num.append(s)\n",
    "print(num)"
   ]
  },
  {
   "cell_type": "code",
   "execution_count": 4,
   "id": "face1042-720d-46ff-b5e8-53ff66f44bb7",
   "metadata": {},
   "outputs": [
    {
     "name": "stdout",
     "output_type": "stream",
     "text": [
      "[1, 3, 12, 0, 0]\n"
     ]
    }
   ],
   "source": [
    "num = [0,1,0,3,12]\n",
    "zerro = 0\n",
    "for i in range(0,len(num)):\n",
    "    if(num[i] != 0):\n",
    "        num[i],num[zerro] = num[zerro],num[i]\n",
    "        zerro+=1\n",
    "print(num)\n",
    "    "
   ]
  },
  {
   "cell_type": "code",
   "execution_count": 8,
   "id": "f883514d-2286-4436-96c4-666a468bae07",
   "metadata": {},
   "outputs": [
    {
     "name": "stdout",
     "output_type": "stream",
     "text": [
      "[3, 6, 8]\n"
     ]
    }
   ],
   "source": [
    "numbers = [1, 3, 2, 6, 5, 8, 7]\n",
    "new = []\n",
    "for i in range(len(numbers)-1):\n",
    "    if(numbers[i]<numbers[i+1]):\n",
    "        new.append(numbers[i+1])\n",
    "print(new)"
   ]
  },
  {
   "cell_type": "code",
   "execution_count": 4,
   "id": "1127b4a9-64dc-4a26-80db-59f0ad3b1570",
   "metadata": {},
   "outputs": [
    {
     "name": "stdout",
     "output_type": "stream",
     "text": [
      "[(-1, -1, 2), (-1, 0, 1)]\n"
     ]
    }
   ],
   "source": [
    "numbers = [-1, 0, 1, 2, -1, -4]\n",
    "numbers.sort()\n",
    "new = []\n",
    "for i in range(0,len(numbers)):\n",
    "    if(numbers[i] == numbers[i-1]):\n",
    "        continue\n",
    "    end = len(numbers)-1\n",
    "    j = i+1\n",
    "    while j < end:\n",
    "        if(numbers[i]+numbers[j]+numbers[end]>0):\n",
    "            end-=1\n",
    "        elif(numbers[i]+numbers[j]+numbers[end]<0):\n",
    "            j+=1\n",
    "        else:\n",
    "            a =(numbers[i],numbers[j],numbers[end])\n",
    "            new.append(a)\n",
    "            while( j < end and numbers[j] == numbers[j+1]):\n",
    "                j+=1\n",
    "            while(j < end and numbers[end] == numbers[end-1]):\n",
    "                end-=1\n",
    "            j+=1\n",
    "            end-=1\n",
    "print(new)"
   ]
  },
  {
   "cell_type": "code",
   "execution_count": null,
   "id": "c26cc97f-cd5c-4522-9e5c-1c17111c566b",
   "metadata": {},
   "outputs": [],
   "source": []
  }
 ],
 "metadata": {
  "kernelspec": {
   "display_name": "Python 3 (ipykernel)",
   "language": "python",
   "name": "python3"
  },
  "language_info": {
   "codemirror_mode": {
    "name": "ipython",
    "version": 3
   },
   "file_extension": ".py",
   "mimetype": "text/x-python",
   "name": "python",
   "nbconvert_exporter": "python",
   "pygments_lexer": "ipython3",
   "version": "3.13.3"
  }
 },
 "nbformat": 4,
 "nbformat_minor": 5
}
